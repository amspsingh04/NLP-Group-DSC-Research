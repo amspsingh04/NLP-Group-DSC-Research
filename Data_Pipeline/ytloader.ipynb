{
 "cells": [
  {
   "cell_type": "code",
   "execution_count": 1,
   "metadata": {},
   "outputs": [],
   "source": [
    "import pytubefix \n",
    "from pytubefix import YouTube\n",
    "import subprocess\n",
    "import torch\n",
    "import os\n",
    "import ffmpeg\n",
    "import pandas as pd\n",
    "import re"
   ]
  },
  {
   "cell_type": "markdown",
   "metadata": {},
   "source": [
    "pytubefix is used to work with youtube videos from within python\n",
    "ffmpeg to convert between mp3 and wav, and other av file formats"
   ]
  },
  {
   "cell_type": "code",
   "execution_count": 2,
   "metadata": {},
   "outputs": [],
   "source": [
    "device = torch.device('cpu') #or cuda if you have cuda"
   ]
  },
  {
   "cell_type": "code",
   "execution_count": 3,
   "metadata": {},
   "outputs": [],
   "source": [
    "audio_mp3 = \"../Dataset/mp3\"\n",
    "audio_wav = \"../Dataset/wav\"\n",
    "subtitles_srt = \"../Dataset/srt\"\n",
    "subtitles_txt = \"../Dataset/txt\"\n",
    "os.makedirs(audio_mp3, exist_ok=True)\n",
    "os.makedirs(audio_wav, exist_ok=True)\n",
    "os.makedirs(subtitles_srt, exist_ok=True)\n",
    "os.makedirs(subtitles_txt, exist_ok=True)\n"
   ]
  },
  {
   "cell_type": "code",
   "execution_count": null,
   "metadata": {},
   "outputs": [],
   "source": [
    "df = pd.read_csv(\"links.csv\")\n",
    "df['links']"
   ]
  },
  {
   "cell_type": "markdown",
   "metadata": {},
   "source": [
    "import re\n",
    "video_url= \"https://youtu.be/XCPZBD9lbVo?si=t4OpAlzVuUNUVFGU\"\n",
    "caption=YouTube(video_url).captions.get_by_language_code('a.en')\n",
    "srt_content = caption.generate_srt_captions()\n",
    "\n",
    "lines = srt_content.splitlines()\n",
    "text = ''\n",
    "for line in lines:\n",
    "    if re.search('^[0-9]+$', line) is None and re.search('^[0-9]{2}:[0-9]{2}:[0-9]{2}', line) is None and re.search('^$', line) is None:\n",
    "                text += ' ' + line.strip()\n",
    "    text = text.lstrip()  \n",
    "\n",
    "text"
   ]
  },
  {
   "cell_type": "code",
   "execution_count": 28,
   "metadata": {},
   "outputs": [
    {
     "name": "stdout",
     "output_type": "stream",
     "text": [
      "Failed to download subtitles for  https://www.youtube.com/watch?v=MpcQOSE3vM4: 'en.LUU0EuDKgKo'\n",
      "Subtitles saved as SRT: ../Dataset/srt/vid1.srt\n",
      "Subtitles saved as TXT: ../Dataset/txt/vid1.txt\n",
      "Audio downloaded as mp3: aud1.mp3\n",
      "Audio 1 converted to wav\n",
      "Subtitles saved as SRT: ../Dataset/srt/vid2.srt\n",
      "Subtitles saved as TXT: ../Dataset/txt/vid2.txt\n",
      "Audio downloaded as mp3: aud2.mp3\n",
      "Audio 2 converted to wav\n",
      "Subtitles saved as SRT: ../Dataset/srt/vid3.srt\n",
      "Subtitles saved as TXT: ../Dataset/txt/vid3.txt\n",
      "Audio downloaded as mp3: aud3.mp3\n",
      "Audio 3 converted to wav\n",
      "Subtitles saved as SRT: ../Dataset/srt/vid4.srt\n",
      "Subtitles saved as TXT: ../Dataset/txt/vid4.txt\n",
      "Audio downloaded as mp3: aud4.mp3\n",
      "Audio 4 converted to wav\n",
      "Subtitles saved as SRT: ../Dataset/srt/vid5.srt\n",
      "Subtitles saved as TXT: ../Dataset/txt/vid5.txt\n",
      "Audio downloaded as mp3: aud5.mp3\n",
      "Audio 5 converted to wav\n",
      "Subtitles saved as SRT: ../Dataset/srt/vid6.srt\n",
      "Subtitles saved as TXT: ../Dataset/txt/vid6.txt\n",
      "Audio downloaded as mp3: aud6.mp3\n",
      "Audio 6 converted to wav\n",
      "Subtitles saved as SRT: ../Dataset/srt/vid7.srt\n",
      "Subtitles saved as TXT: ../Dataset/txt/vid7.txt\n",
      "Audio downloaded as mp3: aud7.mp3\n",
      "Audio 7 converted to wav\n",
      "Subtitles saved as SRT: ../Dataset/srt/vid8.srt\n",
      "Subtitles saved as TXT: ../Dataset/txt/vid8.txt\n",
      "Audio downloaded as mp3: aud8.mp3\n",
      "Audio 8 converted to wav\n",
      "Subtitles saved as SRT: ../Dataset/srt/vid9.srt\n",
      "Subtitles saved as TXT: ../Dataset/txt/vid9.txt\n",
      "Audio downloaded as mp3: aud9.mp3\n",
      "Audio 9 converted to wav\n",
      "Subtitles saved as SRT: ../Dataset/srt/vid10.srt\n",
      "Subtitles saved as TXT: ../Dataset/txt/vid10.txt\n",
      "Audio downloaded as mp3: aud10.mp3\n",
      "Audio 10 converted to wav\n"
     ]
    }
   ],
   "source": [
    "i=0\n",
    "for video_url in df['links']:\n",
    "    try:\n",
    "        yt = YouTube(video_url)\n",
    "        if yt.captions:\n",
    "            caption = yt.captions['en.LUU0EuDKgKo']\n",
    "            if caption:\n",
    "                srt_content = caption.generate_srt_captions()\n",
    "                txt_content = caption.generate_txt_captions()\n",
    "                \n",
    "                # File paths\n",
    "                srt_file_name = f\"{subtitles_srt}/vid{i}.srt\"\n",
    "                txt_file_name = f\"{subtitles_txt}/vid{i}.txt\"\n",
    "                \n",
    "                # Save as .srt\n",
    "                with open(srt_file_name, \"w\", encoding=\"utf-8\") as f:\n",
    "                    f.write(srt_content)\n",
    "                print(f\"Subtitles saved as SRT: {srt_file_name}\")\n",
    "                \n",
    "                # Save as .txt\n",
    "                with open(txt_file_name, \"w\", encoding=\"utf-8\") as f:\n",
    "                    f.write(txt_content)\n",
    "                print(f\"Subtitles saved as TXT: {txt_file_name}\")\n",
    "            else:\n",
    "                caption = yt.captions['a.en']\n",
    "                srt_content = caption.generate_srt_captions()\n",
    "                lines = srt_content.splitlines()\n",
    "                txt_content = ''\n",
    "                for line in lines:\n",
    "                    if re.search('^[0-9]+$', line) is None and re.search('^[0-9]{2}:[0-9]{2}:[0-9]{2}', line) is None and re.search('^$', line) is None:\n",
    "                                txt_content += ' ' + line.strip()\n",
    "                txt_content = txt_content.lstrip()\n",
    "                srt_file_name = f\"{subtitles_srt}/vid{i}.srt\"\n",
    "                txt_file_name = f\"{subtitles_txt}/vid{i}.txt\"\n",
    "                \n",
    "                # Save as .srt\n",
    "                with open(srt_file_name, \"w\", encoding=\"utf-8\") as f:\n",
    "                    f.write(srt_content)\n",
    "                print(f\"Subtitles saved as SRT: {srt_file_name}\")\n",
    "                \n",
    "                # Save as .txt\n",
    "                with open(txt_file_name, \"w\", encoding=\"utf-8\") as f:\n",
    "                    f.write(txt_content)\n",
    "                print(f\"Subtitles saved as TXT: {txt_file_name}\")\n",
    "\n",
    "            adst = yt.streams.filter(only_audio=True, file_extension='mp4').order_by('abr').desc().first()\n",
    "            adst.download(output_path=audio_mp3, filename=f\"aud{i}.mp3\")\n",
    "            print(f\"Audio downloaded as mp3: aud{i}.mp3\")\n",
    "            \n",
    "            subprocess.run(['ffmpeg', '-i', os.path.join(audio_mp3, f\"aud{i}.mp3\"), os.path.join(audio_wav, f\"aud{i}.wav\"), '-y'], check=True)\n",
    "            print(f\"Audio {i} converted to wav\")\n",
    "    except Exception as e:\n",
    "        print(f\"Failed to download subtitles for {video_url}: {e}\")\n",
    "    i+=1"
   ]
  }
 ],
 "metadata": {
  "kernelspec": {
   "display_name": "Python 3",
   "language": "python",
   "name": "python3"
  },
  "language_info": {
   "codemirror_mode": {
    "name": "ipython",
    "version": 3
   },
   "file_extension": ".py",
   "mimetype": "text/x-python",
   "name": "python",
   "nbconvert_exporter": "python",
   "pygments_lexer": "ipython3",
   "version": "3.12.7"
  }
 },
 "nbformat": 4,
 "nbformat_minor": 2
}
